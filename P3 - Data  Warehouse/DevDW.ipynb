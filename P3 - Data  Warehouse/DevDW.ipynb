{
 "cells": [
  {
   "cell_type": "code",
   "execution_count": 1,
   "metadata": {
    "editable": true
   },
   "outputs": [],
   "source": [
    "%load_ext autoreload\n",
    "%autoreload 2\n",
    "import configparser\n",
    "import psycopg2\n",
    "from sql_queries import create_table_queries, drop_table_queries,insert_table_queries,copy_table_queries"
   ]
  },
  {
   "cell_type": "code",
   "execution_count": 2,
   "metadata": {
    "editable": true
   },
   "outputs": [],
   "source": [
    "config = configparser.ConfigParser()\n",
    "config.read('dwh.cfg')\n",
    "\n",
    "conn = psycopg2.connect(\"host={} dbname={} user={} password={} port={}\".format(*config['CLUSTER'].values()))\n",
    "cur = conn.cursor()"
   ]
  },
  {
   "cell_type": "markdown",
   "metadata": {
    "editable": true
   },
   "source": [
    "#### Code to examine the file"
   ]
  },
  {
   "cell_type": "code",
   "execution_count": 86,
   "metadata": {
    "editable": true
   },
   "outputs": [
    {
     "name": "stdout",
     "output_type": "stream",
     "text": [
      "printing s3_clientdata\n",
      "{\"artist\":null,\"auth\":\"Logged In\",\"firstName\":\"Walter\",\"gender\":\"M\",\"itemInSession\":0,\"lastName\":\"Frye\",\"length\":null,\"level\":\"free\",\"location\":\"San Francisco-Oakland-Hayward, CA\",\"method\":\"GET\",\"page\":\"Home\",\"registration\":1540919166796.0,\"sessionId\":38,\"song\":null,\"status\":200,\"ts\":1541105830796,\"userAgent\":\"\\\"Mozilla\\/5.0 (Macintosh; Intel Mac OS X 10_9_4) AppleWebKit\\/537.36 (KHTML, like Gecko) Chrome\\/36.0.1985.143 Safari\\/537.36\\\"\",\"userId\":\"39\"}\n",
      "{\"artist\":null,\"auth\":\"Logged In\",\"firstName\":\"Kaylee\",\"gender\":\"F\",\"itemInSession\":0,\"lastName\":\"Summers\",\"length\":null,\"level\":\"free\",\"location\":\"Phoenix-Mesa-Scottsdale, AZ\",\"method\":\"GET\",\"page\":\"Home\",\"registration\":1540344794796.0,\"sessionId\":139,\"song\":null,\"status\":200,\"ts\":1541106106796,\"userAgent\":\"\\\"Mozilla\\/5.0 (Windows NT 6.1; WOW64) AppleWebKit\\/537.36 (KHTML, like Gecko) Chrome\\/35.0.1916.153 Safari\\/537.36\\\"\",\"userId\":\"8\"}\n",
      "{\"artist\":\"Des'ree\",\"auth\":\"Logged In\",\"firstName\":\"Kaylee\",\"gender\":\"F\",\"itemInSession\":1,\"lastName\":\"Summers\",\"length\":246.30812,\"level\":\"free\",\"location\":\"Phoenix-Mesa-Scottsdale, AZ\",\"method\":\"PUT\",\"page\":\"NextSong\",\"registration\":1540344794796.0,\"sessionId\":139,\"song\":\"You Gotta Be\",\"status\":200,\"ts\":1541106106796,\"userAgent\":\"\\\"Mozilla\\/5.0 (Windows NT 6.1; WOW64) AppleWebKit\\/537.36 (KHTML, like Gecko) Chrome\\/35.0.1916.153 Safari\\/537.36\\\"\",\"userId\":\"8\"}\n",
      "{\"artist\":null,\"auth\":\"Logged In\",\"firstName\":\"Kaylee\",\"gender\":\"F\",\"itemInSession\":2,\"lastName\":\"Summers\",\"length\":null,\"level\":\"free\",\"location\":\"Phoenix-Mesa-Scottsdale, AZ\",\"method\":\"GET\",\"page\":\"Upgrade\",\"registration\":1540344794796.0,\"sessionId\":139,\"song\":null,\"status\":200,\"ts\":1541106132796,\"userAgent\":\"\\\"Mozilla\\/5.0 (Windows NT 6.1; WOW64) AppleWebKit\\/537.36 (KHTML, like Gecko) Chrome\\/35.0.1916.153 Safari\\/537.36\\\"\",\"userId\":\"8\"}\n",
      "{\"artist\":\"Mr Oizo\",\"auth\":\"Logged In\",\"firstName\":\"Kaylee\",\"gender\":\"F\",\"itemInSession\":3,\"lastName\":\"Summers\",\"length\":144.03873,\"level\":\"free\",\"location\":\"Phoenix-Mesa-Scottsdale, AZ\",\"method\":\"PUT\",\"page\":\"NextSong\",\"registration\":1540344794796.0,\"sessionId\":139,\"song\":\"Flat 55\",\"status\":200,\"ts\":1541106352796,\"userAgent\":\"\\\"Mozilla\\/5.0 (Windows NT 6.1; WOW64) AppleWebKit\\/537.36 (KHTML, like Gecko) Chrome\\/35.0.1916.153 Safari\\/537.36\\\"\",\"userId\":\"8\"}\n",
      "{\"artist\":\"Tamba Trio\",\"auth\":\"Logged In\",\"firstName\":\"Kaylee\",\"gender\":\"F\",\"itemInSession\":4,\"lastName\":\"Summers\",\"length\":177.18812,\"level\":\"free\",\"location\":\"Phoenix-Mesa-Scottsdale, AZ\",\"method\":\"PUT\",\"page\":\"NextSong\",\"registration\":1540344794796.0,\"sessionId\":139,\"song\":\"Quem Quiser Encontrar O Amor\",\"status\":200,\"ts\":1541106496796,\"userAgent\":\"\\\"Mozilla\\/5.0 (Windows NT 6.1; WOW64) AppleWebKit\\/537.36 (KHTML, like Gecko) Chrome\\/35.0.1916.153 Safari\\/537.36\\\"\",\"userId\":\"8\"}\n",
      "{\"artist\":\"The Mars Volta\",\"auth\":\"Logged In\",\"firstName\":\"Kaylee\",\"gender\":\"F\",\"itemInSession\":5,\"lastName\":\"Summers\",\"length\":380.42077,\"level\":\"free\",\"location\":\"Phoenix-Mesa-Scottsdale, AZ\",\"method\":\"PUT\",\"page\":\"NextSong\",\"registration\":1540344794796.0,\"sessionId\":139,\"song\":\"Eriatarka\",\"status\":200,\"ts\":1541106673796,\"userAgent\":\"\\\"Mozilla\\/5.0 (Windows NT 6.1; WOW64) AppleWebKit\\/537.36 (KHTML, like Gecko) Chrome\\/35.0.1916.153 Safari\\/537.36\\\"\",\"userId\":\"8\"}\n",
      "{\"artist\":\"Infected Mushroom\",\"auth\":\"Logged In\",\"firstName\":\"Kaylee\",\"gender\":\"F\",\"itemInSession\":6,\"lastName\":\"Summers\",\"length\":440.2673,\"level\":\"free\",\"location\":\"Phoenix-Mesa-Scottsdale, AZ\",\"method\":\"PUT\",\"page\":\"NextSong\",\"registration\":1540344794796.0,\"sessionId\":139,\"song\":\"Becoming Insane\",\"status\":200,\"ts\":1541107053796,\"userAgent\":\"\\\"Mozilla\\/5.0 (Windows NT 6.1; WOW64) AppleWebKit\\/537.36 (KHTML, like Gecko) Chrome\\/35.0.1916.153 Safari\\/537.36\\\"\",\"userId\":\"8\"}\n",
      "{\"artist\":\"Blue October \\/ Imogen Heap\",\"auth\":\"Logged In\",\"firstName\":\"Kaylee\",\"gender\":\"F\",\"itemInSession\":7,\"lastName\":\"Summers\",\"length\":241.3971,\"level\":\"free\",\"location\":\"Phoenix-Mesa-Scottsdale, AZ\",\"method\":\"PUT\",\"page\":\"NextSong\",\"registration\":1540344794796.0,\"sessionId\":139,\"song\":\"Congratulations\",\"status\":200,\"ts\":1541107493796,\"userAgent\":\"\\\"Mozilla\\/5.0 (Windows NT 6.1; WOW64) AppleWebKit\\/537.36 (KHTML, like Gecko) Chrome\\/35.0.1916.153 Safari\\/537.36\\\"\",\"userId\":\"8\"}\n",
      "{\"artist\":\"Girl Talk\",\"auth\":\"Logged In\",\"firstName\":\"Kaylee\",\"gender\":\"F\",\"itemInSession\":8,\"lastName\":\"Summers\",\"length\":160.15628,\"level\":\"free\",\"location\":\"Phoenix-Mesa-Scottsdale, AZ\",\"method\":\"PUT\",\"page\":\"NextSong\",\"registration\":1540344794796.0,\"sessionId\":139,\"song\":\"Once again\",\"status\":200,\"ts\":1541107734796,\"userAgent\":\"\\\"Mozilla\\/5.0 (Windows NT 6.1; WOW64) AppleWebKit\\/537.36 (KHTML, like Gecko) Chrome\\/35.0.1916.153 Safari\\/537.36\\\"\",\"userId\":\"8\"}\n",
      "{\"artist\":\"Black Eyed Peas\",\"auth\":\"Logged In\",\"firstName\":\"Sylvie\",\"gender\":\"F\",\"itemInSession\":0,\"lastName\":\"Cruz\",\"length\":214.93506,\"level\":\"free\",\"location\":\"Washington-Arlington-Alexandria, DC-VA-MD-WV\",\"method\":\"PUT\",\"page\":\"NextSong\",\"registration\":1540266185796.0,\"sessionId\":9,\"song\":\"Pump It\",\"status\":200,\"ts\":1541108520796,\"userAgent\":\"\\\"Mozilla\\/5.0 (Macintosh; Intel Mac OS X 10_9_4) AppleWebKit\\/537.77.4 (KHTML, like Gecko) Version\\/7.0.5 Safari\\/537.77.4\\\"\",\"userId\":\"10\"}\n",
      "{\"artist\":null,\"auth\":\"Logged In\",\"firstName\":\"Ryan\",\"gender\":\"M\",\"itemInSession\":0,\"lastName\":\"Smith\",\"length\":null,\"level\":\"free\",\"location\":\"San Jose-Sunnyvale-Santa Clara, CA\",\"method\":\"GET\",\"page\":\"Home\",\"registration\":1541016707796.0,\"sessionId\":169,\"song\":null,\"status\":200,\"ts\":1541109015796,\"userAgent\":\"\\\"Mozilla\\/5.0 (X11; Linux x86_64) AppleWebKit\\/537.36 (KHTML, like Gecko) Ubuntu Chromium\\/36.0.1985.125 Chrome\\/36.0.1985.125 Safari\\/537.36\\\"\",\"userId\":\"26\"}\n",
      "{\"artist\":\"Fall Out Boy\",\"auth\":\"Logged In\",\"firstName\":\"Ryan\",\"gender\":\"M\",\"itemInSession\":1,\"lastName\":\"Smith\",\"length\":200.72444,\"level\":\"free\",\"location\":\"San Jose-Sunnyvale-Santa Clara, CA\",\"method\":\"PUT\",\"page\":\"NextSong\",\"registration\":1541016707796.0,\"sessionId\":169,\"song\":\"Nobody Puts Baby In The Corner\",\"status\":200,\"ts\":1541109125796,\"userAgent\":\"\\\"Mozilla\\/5.0 (X11; Linux x86_64) AppleWebKit\\/537.36 (KHTML, like Gecko) Ubuntu Chromium\\/36.0.1985.125 Chrome\\/36.0.1985.125 Safari\\/537.36\\\"\",\"userId\":\"26\"}\n",
      "{\"artist\":\"M.I.A.\",\"auth\":\"Logged In\",\"firstName\":\"Ryan\",\"gender\":\"M\",\"itemInSession\":2,\"lastName\":\"Smith\",\"length\":233.7171,\"level\":\"free\",\"location\":\"San Jose-Sunnyvale-Santa Clara, CA\",\"method\":\"PUT\",\"page\":\"NextSong\",\"registration\":1541016707796.0,\"sessionId\":169,\"song\":\"Mango Pickle Down River (With The Wilcannia Mob)\",\"status\":200,\"ts\":1541109325796,\"userAgent\":\"\\\"Mozilla\\/5.0 (X11; Linux x86_64) AppleWebKit\\/537.36 (KHTML, like Gecko) Ubuntu Chromium\\/36.0.1985.125 Chrome\\/36.0.1985.125 Safari\\/537.36\\\"\",\"userId\":\"26\"}\n",
      "{\"artist\":\"Survivor\",\"auth\":\"Logged In\",\"firstName\":\"Jayden\",\"gender\":\"M\",\"itemInSession\":0,\"lastName\":\"Fox\",\"length\":245.36771,\"level\":\"free\",\"location\":\"New Orleans-Metairie, LA\",\"method\":\"PUT\",\"page\":\"NextSong\",\"registration\":1541033612796.0,\"sessionId\":100,\"song\":\"Eye Of The Tiger\",\"status\":200,\"ts\":1541110994796,\"userAgent\":\"\\\"Mozilla\\/5.0 (Windows NT 6.3; WOW64) AppleWebKit\\/537.36 (KHTML, like Gecko) Chrome\\/36.0.1985.143 Safari\\/537.36\\\"\",\"userId\":\"101\"}\n",
      "<class 'str'>\n"
     ]
    }
   ],
   "source": [
    "import boto3\n",
    "import json\n",
    "#Code to get the first object\n",
    "s3 = boto3.resource('s3',\n",
    "                       region_name=\"us-west-2\",\n",
    "                       aws_access_key_id=config['AWS']['KEY'],\n",
    "                       aws_secret_access_key=config['AWS']['SECRET']\n",
    "                   )\n",
    "\n",
    "#First bucket\n",
    "s3Bucket=  s3.Bucket(\"udacity-dend\")\n",
    "#get 1 object\n",
    "FirstObject =[obj for obj in s3Bucket.objects.filter(Prefix=\"log_data\")][1]\n",
    "s3_clientobj = s3.Object(bucket_name=FirstObject.bucket_name, key=FirstObject.key)\n",
    "s3_clientdata = s3_clientobj.get()['Body'].read().decode('utf-8')\n",
    "\n",
    "\n",
    "print(\"printing s3_clientdata\")\n",
    "print(s3_clientdata)"
   ]
  },
  {
   "cell_type": "code",
   "execution_count": 90,
   "metadata": {
    "editable": true
   },
   "outputs": [
    {
     "name": "stdout",
     "output_type": "stream",
     "text": [
      "printing s3_clientdata\n",
      "{\"artist_id\":\"AR73AIO1187B9AD57B\",\"artist_latitude\":37.77916,\"artist_location\":\"San Francisco, CA\",\"artist_longitude\":-122.42005,\"artist_name\":\"Western Addiction\",\"duration\":118.07302,\"num_songs\":1,\"song_id\":\"SOQPWCR12A6D4FB2A3\",\"title\":\"A Poor Recipe For Civic Cohesion\",\"year\":2005}\n"
     ]
    }
   ],
   "source": [
    "import boto3\n",
    "import json\n",
    "#Code to get the first object\n",
    "s3 = boto3.resource('s3',\n",
    "                       region_name=\"us-west-2\",\n",
    "                       aws_access_key_id=config['AWS']['KEY'],\n",
    "                       aws_secret_access_key=config['AWS']['SECRET']\n",
    "                   )\n",
    "\n",
    "#First bucket\n",
    "s3Bucket=  s3.Bucket(\"udacity-dend\")\n",
    "#get 1 object\n",
    "FirstObject =[obj for obj in s3Bucket.objects.filter(Prefix=\"song_data/A/A/A\")][1]\n",
    "s3_clientobj = s3.Object(bucket_name=FirstObject.bucket_name, key=FirstObject.key)\n",
    "s3_clientdata = s3_clientobj.get()['Body'].read().decode('utf-8')\n",
    "\n",
    "\n",
    "print(\"printing s3_clientdata\")\n",
    "print(s3_clientdata)"
   ]
  },
  {
   "cell_type": "markdown",
   "metadata": {
    "editable": true
   },
   "source": [
    "#### Run the py file"
   ]
  },
  {
   "cell_type": "code",
   "execution_count": 18,
   "metadata": {
    "editable": true
   },
   "outputs": [],
   "source": [
    "%%bash\n",
    "python create_tables.py"
   ]
  },
  {
   "cell_type": "code",
   "execution_count": 19,
   "metadata": {
    "editable": true
   },
   "outputs": [
    {
     "name": "stdout",
     "output_type": "stream",
     "text": [
      "\n",
      "    copy stg_raw_events from 's3://udacity-dend/log_data'\n",
      "    credentials 'aws_iam_role=arn:aws:iam::009709556450:role/dwhRole'\n",
      "    format as json 's3://udacity-dend/log_json_path.json'\n",
      "    STATUPDATE ON region 'us-west-2';\n",
      "\n",
      "time used 1.9946722984313965 s\n",
      "\n",
      "    copy stg_raw_songs from 's3://udacity-dend/song_data/A/A'\n",
      "    credentials 'aws_iam_role=arn:aws:iam::009709556450:role/dwhRole'\n",
      "    format as json 'auto'\n",
      "    STATUPDATE ON region 'us-west-2';\n",
      "\n",
      "time used 8.157477855682373 s\n",
      "\n",
      "INSERT INTO fdn_fact_songplays (start_time,user_id,level,song_id,artist_id,session_id,location,user_agent)\n",
      "select  TIMESTAMP 'epoch' + ts/1000 *INTERVAL '1 second' as start_time\n",
      "        ,userId,level,song_id,artist_id, sessionId, location, userAgent\n",
      "                            from stg_raw_events A \n",
      "                            join (select distinct song_id, title  from stg_raw_songs) B on A.song=B.title\n",
      "                            join (select distinct artist_id,artist_name from stg_raw_songs) C on A.artist=C.artist_name\n",
      "                            where page='NextSong'\n",
      "                            ;\n",
      "\n",
      "time used 6.279078483581543 s\n",
      "\n",
      "INSERT INTO fdn_dim_users\n",
      "select distinct userId, firstName, lastName, gender, level from stg_raw_events;\n",
      "\n",
      "time used 0.16268587112426758 s\n",
      "\n",
      "INSERT INTO fdn_dim_songs\n",
      "select distinct song_id, title, artist_id, year, duration  from stg_raw_songs;\n",
      "\n",
      "time used 5.822957515716553 s\n",
      "\n",
      "INSERT INTO fdn_dim_artists\n",
      "select distinct artist_id, artist_name, artist_location, artist_latitude , artist_longitude  from stg_raw_songs;\n",
      "\n",
      "time used 6.864726305007935 s\n",
      "\n",
      "INSERT INTO fdn_dim_times\n",
      "select distinct TIMESTAMP 'epoch' + ts/1000 *INTERVAL '1 second' as start_time, \n",
      "extract(hour from TIMESTAMP 'epoch' + ts/1000 *INTERVAL '1 second'),\n",
      "extract(day from TIMESTAMP 'epoch' + ts/1000 *INTERVAL '1 second'),\n",
      "extract(week from TIMESTAMP 'epoch' + ts/1000 *INTERVAL '1 second'),\n",
      "extract(month from TIMESTAMP 'epoch' + ts/1000 *INTERVAL '1 second'),\n",
      "extract(year from TIMESTAMP 'epoch' + ts/1000 *INTERVAL '1 second'),\n",
      "extract(dow from TIMESTAMP 'epoch' + ts/1000 *INTERVAL '1 second')\n",
      "from stg_raw_events;\n",
      "\n",
      "time used 0.18459582328796387 s\n"
     ]
    }
   ],
   "source": [
    "%%bash\n",
    "python etl.py"
   ]
  },
  {
   "cell_type": "code",
   "execution_count": null,
   "metadata": {
    "editable": true
   },
   "outputs": [],
   "source": []
  }
 ],
 "metadata": {
  "kernelspec": {
   "display_name": "Python 3",
   "language": "python",
   "name": "python3"
  },
  "language_info": {
   "codemirror_mode": {
    "name": "ipython",
    "version": 3
   },
   "file_extension": ".py",
   "mimetype": "text/x-python",
   "name": "python",
   "nbconvert_exporter": "python",
   "pygments_lexer": "ipython3",
   "version": "3.6.3"
  }
 },
 "nbformat": 4,
 "nbformat_minor": 4
}
